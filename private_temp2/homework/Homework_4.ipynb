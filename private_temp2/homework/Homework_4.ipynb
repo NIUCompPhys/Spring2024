{
  "nbformat": 4,
  "nbformat_minor": 0,
  "metadata": {
    "colab": {
      "name": "Homework_4.ipynb",
      "provenance": [],
      "collapsed_sections": []
    },
    "kernelspec": {
      "name": "python3",
      "display_name": "Python 3"
    }
  },
  "cells": [
    {
      "cell_type": "markdown",
      "metadata": {
        "id": "WRE1Ckh381si"
      },
      "source": [
        "Exercise 6.7\n",
        "\n",
        "Look at the current going into the V1 junction. We have:\n",
        "$I_+ = I_2 + I_3$\n",
        "\n",
        "$\\frac{V_+ - V_1}{R} = \\frac{V_1 - V_2}{R} + \\frac{V_1 - V_3}{R}$\n",
        "\n",
        "Multiplying by R gives us:\n",
        "\n",
        "$V_+ - V_1 = 2V_1 - V_2 - V_3$ or \n",
        "\n",
        "$3V_1 - V_2 - V_3 = V_+$\n",
        "\n",
        "Now look at the current going into the junction where V2 is measured. There are 4 sets of current going in and out. It is connected to $V_+, V_1, V_2, V_3$ and $V_4$. Note that $V_4$ isn't shown but is the juntion to the right of $V_2$. So:\n",
        "\n",
        "$\\frac{V_+ - V_2}{R} = \\frac{V_2 - V_1}{R} + \\frac{V_2 - V_3}{R} + \\frac{V_2 - V_4}{R}$. Rearranging gives:\n",
        "\n",
        "$-V_1 + 4V_2 - V_2 - V_3 = V_+$\n",
        "\n",
        "The next junctions do not have V_+ connected to them but instead an addition $V_i$ so the next one, for example, is:\n",
        "\n",
        "$-V_1 -V_2 + 4V_3 - V_4 - V_5 = 0$\n",
        "\n",
        "and\n",
        "\n",
        "$-V_{i-2} -V_{i-1} + 4V_i - V_{i+1} - V_{i+2} = 0$\n",
        "\n",
        "all the way up to the last two, which are the same as the first two but without $V_+$:\n",
        "\n",
        "$-V_{N-3} -V_{N-2} + 4V_{N-1} - V_{N} = 0$\n",
        "\n",
        "$-V_{N-2} -V_{N-1} + 3V_{N} = 0$\n",
        "\n",
        "\n",
        "\n"
      ]
    },
    {
      "cell_type": "code",
      "metadata": {
        "id": "ait_9MpDt0oZ"
      },
      "source": [
        "# banded.py from the book\n",
        "\n",
        "######################################################################\n",
        "#\n",
        "# Function to solve a banded system of linear equations using\n",
        "# Gaussian elimination and backsubstitution\n",
        "#\n",
        "# x = banded(A,v,up,down)\n",
        "#\n",
        "# This function returns the vector solution x of the equation A.x = v,\n",
        "# where v is an array representing a vector of N elements, either real\n",
        "# or complex, and A is an N by N banded matrix with \"up\" nonzero\n",
        "# elements above the diagonal and \"down\" nonzero elements below the\n",
        "# diagonal.  The matrix is specified as a two-dimensional array of\n",
        "# (1+up+down) by N elements with the diagonals of the original matrix\n",
        "# along its rows, thus:\n",
        "#\n",
        "#   (  -   -  A02 A13 A24 ...\n",
        "#   (  -  A01 A12 A23 A34 ...\n",
        "#   ( A00 A11 A22 A33 A44 ...\n",
        "#   ( A10 A21 A32 A43 A54 ...\n",
        "#   ( A20 A31 A42 A53 A64 ...\n",
        "#\n",
        "# Elements represented by dashes are ignored -- it doesn't matter what\n",
        "# these elements contain.  The size of the system is taken from the\n",
        "# size of the vector v.  If the matrix A is larger than NxN then the\n",
        "# extras are ignored.  If it is smaller, the program will produce an\n",
        "# error.\n",
        "#\n",
        "# The function is compatible with version 2 and version 3 of Python.\n",
        "#\n",
        "# Written by Mark Newman <mejn@umich.edu>, September 4, 2011\n",
        "# You may use, share, or modify this file freely\n",
        "#\n",
        "######################################################################\n",
        "\n",
        "from numpy import copy\n",
        "\n",
        "def banded(Aa,va,up,down):\n",
        "\n",
        "    # Copy the inputs and determine the size of the system\n",
        "    A = copy(Aa)\n",
        "    v = copy(va)\n",
        "    N = len(v)\n",
        "\n",
        "    # Gaussian elimination\n",
        "    for m in range(N):\n",
        "\n",
        "        # Normalization factor\n",
        "        div = A[up,m]\n",
        "\n",
        "        # Update the vector first\n",
        "        v[m] /= div\n",
        "        for k in range(1,down+1):\n",
        "            if m+k<N:\n",
        "                v[m+k] -= A[up+k,m]*v[m]\n",
        "\n",
        "        # Now normalize the pivot row of A and subtract from lower ones\n",
        "        for i in range(up):\n",
        "            j = m + up - i\n",
        "            if j<N:\n",
        "                A[i,j] /= div\n",
        "                for k in range(1,down+1):\n",
        "                    A[i+k,j] -= A[up+k,m]*A[i,j]\n",
        "\n",
        "    # Backsubstitution\n",
        "    for m in range(N-2,-1,-1):\n",
        "        for i in range(up):\n",
        "            j = m + up - i\n",
        "            if j<N:\n",
        "                v[m] -= A[i,j]*v[j]\n",
        "\n",
        "    return v\n"
      ],
      "execution_count": null,
      "outputs": []
    },
    {
      "cell_type": "code",
      "metadata": {
        "id": "eDZ-H90HxiYd"
      },
      "source": [
        "# Exercise 6.7 for N junctions\n",
        "from numpy import empty, zeros\n",
        "from matplotlib.pyplot import plot,show,ylim,xlabel,ylabel\n",
        "\n",
        "def plotCircuit(N,Vp):\n",
        "  # Set up initial values\n",
        "  A = zeros([N-1,N],float)\n",
        "  # Remembering that A looks like this (it's not the full matrix), where '-' are ignored\n",
        "  #   (  -   -  A02 A13 A24 ...\n",
        "  #   (  -  A01 A12 A23 A34 ...\n",
        "  #   ( A00 A11 A22 A33 A44 ...\n",
        "  #   ( A10 A21 A32 A43 A54 ...\n",
        "  #   ( A20 A31 A42 A53 A64 ...\n",
        "\n",
        "  # Compare these values to our system of equations\n",
        "  A[0,:] = -1\n",
        "  A[1,:] = -1\n",
        "  A[2,:] = 4 ### First and last columns to be changed\n",
        "  A[3,:] = -1\n",
        "  A[4,:] = -1\n",
        "  A[2,0] = 3.0\n",
        "  A[2,N-1] = 3.0\n",
        "\n",
        "  v = zeros(N,float)\n",
        "  v[0] = v[1] = Vp\n",
        "\n",
        "  # Solve\n",
        "  w = banded(A,v,2,2)\n",
        "\n",
        "  # Plot\n",
        "  plot(range(1,N+1),w)\n",
        "  plot(range(1,N+1),w,\"ko\")\n",
        "  ylim(0,Vp*1.1)\n",
        "  xlabel(\"Value at junction i = \")\n",
        "  ylabel(\"V\")\n",
        "  show()\n"
      ],
      "execution_count": null,
      "outputs": []
    },
    {
      "cell_type": "code",
      "metadata": {
        "colab": {
          "base_uri": "https://localhost:8080/",
          "height": 1000
        },
        "id": "yzTYQ_fWuZDU",
        "outputId": "4376e2ff-a615-4955-9097-617da6e425e9"
      },
      "source": [
        "# Can see it is linearly decreasing except for at the edges\n",
        "plotCircuit(6,5.0)\n",
        "plotCircuit(10,5.0)\n",
        "plotCircuit(100,5.0)\n",
        "plotCircuit(10000,5.0)"
      ],
      "execution_count": null,
      "outputs": [
        {
          "output_type": "display_data",
          "data": {
            "image/png": "[encoded data removed]",
            "text/plain": [
              "<Figure size 432x288 with 1 Axes>"
            ]
          },
          "metadata": {
            "tags": [],
            "needs_background": "light"
          }
        },
        {
          "output_type": "display_data",
          "data": {
            "image/png": "[encoded data removed]",
            "text/plain": [
              "<Figure size 432x288 with 1 Axes>"
            ]
          },
          "metadata": {
            "tags": [],
            "needs_background": "light"
          }
        },
        {
          "output_type": "display_data",
          "data": {
            "image/png": "[encoded data removed]",
            "text/plain": [
              "<Figure size 432x288 with 1 Axes>"
            ]
          },
          "metadata": {
            "tags": [],
            "needs_background": "light"
          }
        },
        {
          "output_type": "display_data",
          "data": {
            "image/png": "[encoded data removed]",
            "text/plain": [
              "<Figure size 432x288 with 1 Axes>"
            ]
          },
          "metadata": {
            "tags": [],
            "needs_background": "light"
          }
        }
      ]
    },
    {
      "cell_type": "markdown",
      "metadata": {
        "id": "-Hdnja__5DXM"
      },
      "source": [
        "Exercise 6.9\n",
        "\n",
        "a) We set $\\psi(x) = \\sum_n \\psi_n \\sin{n\\pi x/L}$ and substitute into $\\hat{H}\\psi = E\\psi$:\n",
        "\n",
        "$\\hat{H} \\sum_n \\psi_n \\sin{n\\pi x/L} = \\sum_n E \\psi_n \\sin{n\\pi x/L}$\n",
        "\n",
        "Now multiply by $\\sin{m\\pi x/L}$ and integrate over x:\n",
        "\n",
        "$\\int_0^L \\sum_n \\psi_n \\sin{m\\pi x/L} \\hat{H} \\sin{n\\pi x/L}  dx = \\int_0^L \\sum_n E \\psi_n \\sin{n\\pi x/L} \\sin{m\\pi x/L} dx $\n",
        "\n",
        "$\\int_0^L \\sum_n \\psi_n \\sin{m\\pi x/L} \\hat{H} \\sin{n\\pi x/L}  dx = \\frac{1}{2}{EL}\\psi_m $\n",
        "\n",
        "Thus we have **H $\\psi$** = E$\\psi$ where $\\psi$ is the eigenvector of the Hamiltonian matrix **H** and comparing to the above:\n",
        "\n",
        "$H_{mn} = \\frac{2}{L}\\int_0^L \\sin{\\frac{\\pi m x}{L}} \\hat{H} \\sin{\\frac{\\pi n x}{L}} dx$\n",
        "\n",
        "$H_{mn} = \\frac{2}{L}\\int_0^L \\sin{\\frac{\\pi m x}{L}} [-\\frac{\\hbar^2}{2m}\\frac{d^2}{dx^2} + V(x)] \\sin{\\frac{\\pi n x}{L}} dx$\n",
        "\n",
        "b) Now we try out explicitly V(x) = ax/L:\n",
        "\n",
        "$H_{mn} = \\frac{2}{L}\\int_0^L \\sin{\\frac{\\pi m x}{L}} [-\\frac{\\hbar^2}{2m}\\frac{d^2}{dx^2} + ax/L] \\sin{\\frac{\\pi n x}{L}} dx$\n",
        "\n",
        "If we look at the kinetic term with derivatives we have the second derivative of a sin, which gives us back a sin, with an additional minus sign and two factors of $\\frac{\\pi n}{L}$ from the chain rule. So the first term is:\n",
        "\n",
        "$\\frac{-2}{L}\\frac{-\\hbar^2}{2m}(\\frac{\\pi n}{L})^2\\int_0^L \\sin{\\frac{\\pi m x}{L}} \\sin{\\frac{\\pi n x}{L}} dx$ = $\\frac{2 \\pi^2 n^2}{L^3}\\frac{\\hbar^2}{2m} \\int_0^L \\sin{\\frac{\\pi m x}{L}} \\sin{\\frac{\\pi n x}{L}} dx$ where from part a this is zero unless $m==n$ in which case we get $\\frac{2 \\pi^2 n^2}{L^3}\\frac{L}{2}\\frac{\\hbar^2}{2m} = \\frac{\\pi^2 n^2 \\hbar^2}{2mL^2}$\n",
        "\n",
        "Evaluating the potential energy piece we have:\n",
        "\n",
        "$\\frac{2}{L}\\int_0^L \\sin{\\frac{\\pi m x}{L}} (ax/L) \\sin{\\frac{\\pi n x}{L}} dx = \\frac{2a}{L^2}\\int_0^L x \\sin{\\frac{\\pi m x}{L}} \\sin{\\frac{\\pi n x}{L}} dx$\n",
        "\n",
        "1) Using information from the book this is zero if $m \\neq n$ and m and n are both odd or even, so $H_{mn}$ is zero in this case\n",
        "\n",
        "2) If $m \\neq n$ and one is even and one is odd we get:\n",
        "\n",
        "$\\frac{2a}{L^2}(\\frac{2L}{\\pi})^2 \\frac{-mn}{(m^2 - n^2)^2} = -\\frac{8a}{\\pi^2}\\frac{mn}{(m^2 - n^2)^2}$\n",
        "\n",
        "3) If $m==n$ we use information from the book to get $\\frac{2a}{L^2} \\frac{L^2}{4} = \\frac{a}{2}$. But we need to add the kinetic term, so the total if $m==n$ is: $\\frac{a}{2}+\\frac{\\pi^2 n^2 \\hbar^2}{2mL^2}$\n",
        "\n",
        "Thus $H_{mn}$ = \n",
        "\n",
        "* 0, if $m \\neq n$ and both m and n are odd\n",
        "* $-\\frac{8amn}{\\pi^2(m^2 - n^2)^2}$, if $m \\neq n$ and one is even and one is odd\n",
        "* $\\frac{a}{2}+\\frac{\\pi^2 n^2 \\hbar^2}{2mL^2}$ if m == n\n",
        "\n",
        "\n",
        "\n",
        "\n",
        "\n",
        "\n",
        "\n",
        "\n"
      ]
    },
    {
      "cell_type": "code",
      "metadata": {
        "colab": {
          "base_uri": "https://localhost:8080/",
          "height": 732
        },
        "id": "vlUFHl2v0JBb",
        "outputId": "01f462e9-1e36-462a-a2d1-2e5244c8c53b"
      },
      "source": [
        "# Exercise 6.9\n",
        "\n",
        "from numpy import pi,sin,sqrt\n",
        "from numpy import empty,linspace,matmul,zeros\n",
        "from numpy.linalg import eigh\n",
        "from matplotlib.pyplot import plot,show,legend,xlabel,ylabel,ylim\n",
        "\n",
        "hbar = 1.0546e-34 # Planck's constant\n",
        "q = 1.6022e-19 # Electron charge\n",
        "M = 9.1094e-31 # Electron mass\n",
        "\n",
        "# Needed to integrate our function\n",
        "# assumes points separated by equal spacing\n",
        "def simple_integral(points,h):  \n",
        "  if (len(points) < 3): return -1   \n",
        "  n = len(points)\n",
        "\n",
        "  return h*(points[0]/2+points[n-1]/2 + sum(points[1:n-1])) \n",
        "\n",
        "\n",
        "def asymmWell(L,a,N,to_print,DoPlot):\n",
        "\n",
        "  # Returns element of H\n",
        "  def H(m,n):\n",
        "    if (m==n):\n",
        "      return pi*pi*m*m*hbar*hbar/(2*L*L*M) + 0.5*a\n",
        "    elif (m+n)%2 == 0: # both even or both odd\n",
        "      return 0.0\n",
        "    else:\n",
        "      return -8*a*m*n/(pi*pi*((m*m-n*n)**2))\n",
        "\n",
        "  # Construct the matrix being careful about numbering from zero\n",
        "  Hmat = empty([N,N])\n",
        "  for m in range(N):\n",
        "    for n in range(N):\n",
        "      Hmat[m,n] = H(m+1,n+1) \n",
        "\n",
        "  # Calculate values and vectors, can use eigh because Hmat is symmetric, otherwise we couldn't!\n",
        "  values,vectors = eigh(Hmat)\n",
        "\n",
        "  # Print results\n",
        "  for n in range(to_print):\n",
        "    print(\"E[\",n+1,\"] = \",values[n]/q,\"eV\")\n",
        "  \n",
        "  # plot results if necessary\n",
        "  if (DoPlot):\n",
        "    Ntoplot = 1000\n",
        "    xvalues=linspace(0,L,Ntoplot)\n",
        "    vec0 = vectors[:,0] ## careful, this is the set of ground state coefficients, not the other way around\n",
        "    vec1 = vectors[:,1] ## careful, this is the set of ground state coefficients, not the other way around\n",
        "    vec2 = vectors[:,2] ## careful, this is the set of ground state coefficients, not the other way around\n",
        "    # Cross-check!\n",
        "    #print(matmul(Hmat,vec0))\n",
        "    #print(vec0*values[0])\n",
        "    vector0=zeros([Ntoplot])\n",
        "    vector1=zeros([Ntoplot])\n",
        "    vector2=zeros([Ntoplot])\n",
        "\n",
        "    for i in range(N): \n",
        "      vector0 = vector0+vec0[i]*sin(pi*(i+1)*xvalues/L)\n",
        "      vector1 = vector1+vec1[i]*sin(pi*(i+1)*xvalues/L)\n",
        "      vector2 = vector2+vec2[i]*sin(pi*(i+1)*xvalues/L)\n",
        "\n",
        "    ## we want to plot wave function^2\n",
        "    density0 = vector0*vector0\n",
        "    density1 = vector1*vector1\n",
        "    density2 = vector2*vector2\n",
        "    h = xvalues[1] - xvalues[0]\n",
        "    int0 = simple_integral(density0,h)\n",
        "    int1 = simple_integral(density1,h)\n",
        "    int2 = simple_integral(density2,h)\n",
        "\n",
        "    print(\"Integral 0 =\",int0)\n",
        "    print(\"Integral 1 =\",int1)\n",
        "    print(\"Integral 2 =\",int2)\n",
        "\n",
        "    density0 = density0/int0\n",
        "    density1 = density1/int1\n",
        "    density2 = density2/int2\n",
        "\n",
        "    plot(xvalues,density0,label=\"Ground state\")\n",
        "    plot(xvalues,density1,label=\"First excited state\")\n",
        "    plot(xvalues,density2,label=\"Second excited state\")\n",
        "    legend(loc='upper right')\n",
        "    xlabel(\"x\")\n",
        "    ylabel(\"Probability Density\")\n",
        "    ylim(0,7e9)\n",
        "    \n",
        "    show()\n",
        "\n",
        "\n",
        "print(\"Doing 10, printing 10\")\n",
        "asymmWell(5e-10,10*q,10,10,False)\n",
        "print(\"\")\n",
        "## Very similar, at least for first energy levels. Start to see small (0.1%) differences at 10th energy level\n",
        "print(\"Doing 1000, printing 10\")\n",
        "asymmWell(5e-10,10*q,1000,10,True)"
      ],
      "execution_count": null,
      "outputs": [
        {
          "output_type": "stream",
          "text": [
            "Doing 10, printing 10\n",
            "E[ 1 ] =  5.836454169087433 eV\n",
            "E[ 2 ] =  11.181312947773755 eV\n",
            "E[ 3 ] =  18.663388967566068 eV\n",
            "E[ 4 ] =  29.14508710387806 eV\n",
            "E[ 5 ] =  42.65646704340144 eV\n",
            "E[ 6 ] =  59.18726399575849 eV\n",
            "E[ 7 ] =  78.73209166320352 eV\n",
            "E[ 8 ] =  101.2890519960618 eV\n",
            "E[ 9 ] =  126.85590205023514 eV\n",
            "E[ 10 ] =  155.56090008101378 eV\n",
            "\n",
            "Doing 1000, printing 10\n",
            "E[ 1 ] =  5.83645376844245 eV\n",
            "E[ 2 ] =  11.181311624555748 eV\n",
            "E[ 3 ] =  18.66338709659171 eV\n",
            "E[ 4 ] =  29.145078304505528 eV\n",
            "E[ 5 ] =  42.65645792384905 eV\n",
            "E[ 6 ] =  59.187211414790355 eV\n",
            "E[ 7 ] =  78.7320398382253 eV\n",
            "E[ 8 ] =  101.2884210901524 eV\n",
            "E[ 9 ] =  126.85506977561278 eV\n",
            "E[ 10 ] =  155.43128239603587 eV\n",
            "Integral 0 = 2.500000000000001e-10\n",
            "Integral 1 = 2.500000000000002e-10\n",
            "Integral 2 = 2.5000000000000007e-10\n"
          ],
          "name": "stdout"
        },
        {
          "output_type": "display_data",
          "data": {
            "image/png": "[encoded data removed]",
            "text/plain": [
              "<Figure size 432x288 with 1 Axes>"
            ]
          },
          "metadata": {
            "tags": [],
            "needs_background": "light"
          }
        }
      ]
    },
    {
      "cell_type": "markdown",
      "metadata": {
        "id": "YOnc0vOaNnpN"
      },
      "source": [
        "6.13\n",
        "\n",
        "Rewrite more simply as $I = \\frac{z\\lambda^{-5}}{e^{q/\\lambda}-1}$. Differentiating with respect to $\\lambda$ and setting to zero we get:\n",
        "\n",
        "$\\frac{-5z\\lambda^{-6}}{e^{q/\\lambda}-1}$ - $\\frac{z\\lambda^{-5}}{(e^{q/\\lambda}-1)^2} e^{q/\\lambda}\\frac{-q}{\\lambda^2} = 0$\n",
        "\n",
        "Simplifying:\n",
        "\n",
        "$(-5\\lambda^{-6})(e^{q/\\lambda}-1) + \\lambda^{-5} e^{q/\\lambda}\\frac{q}{\\lambda^2} = 0$\n",
        "\n",
        "$-5(e^{q/\\lambda}-1) + e^{q/\\lambda}\\frac{q}{\\lambda} = 0$\n",
        "\n",
        "$-5e^{q/\\lambda}+5 + e^{q/\\lambda}\\frac{q}{\\lambda} = 0$\n",
        "\n",
        "$-5+5e^{-q/\\lambda} + \\frac{q}{\\lambda} = 0$, plugging in $q=hc/kT$ and reordering we get:\n",
        "\n",
        "$5e^{-hc/\\lambda kT} + \\frac{hc}{\\lambda kT} -5 = 0$. Plugging in $x=hc/\\lambda kT$ we get:\n",
        "\n",
        "$5e^{-x} + x - 5 = 0$\n"
      ]
    },
    {
      "cell_type": "code",
      "metadata": {
        "colab": {
          "base_uri": "https://localhost:8080/"
        },
        "id": "3Ge5fSNMzwtS",
        "outputId": "0c976e6c-fc96-4418-c7ac-31ced8d758ec"
      },
      "source": [
        "# 6.13\n",
        "\n",
        "from math import exp\n",
        "def f(x):\n",
        "  return 5*exp(-x) + x - 5\n",
        "\n",
        "target = 1e-6\n",
        "x1 = 0.01\n",
        "x2 = 10.0\n",
        "f1 = f(x1)\n",
        "f2 = f(x2)\n",
        "\n",
        "while (x2-x1)>target:\n",
        "  xp = 0.5*(x1+x2)\n",
        "  fxp = f(xp)\n",
        "  if (f1*fxp) > 0:\n",
        "    x1,f1 = xp,fxp\n",
        "  else:\n",
        "    x2,f2 = xp,fxp\n",
        "\n",
        "x = 0.5*(x1+x2)\n",
        "h = 6.626e-34\n",
        "c = 3.0e8\n",
        "k = 1.38e-23\n",
        "\n",
        "b = h*c/(k*x)\n",
        "\n",
        "print(\"x = \",x,\"(K)\")\n",
        "print(\"b = \",b)\n",
        "\n",
        "l = 502e-9\n",
        "t = b/l\n",
        "print(\"Using peak of sun's radiation, estimated temperature = \",t,\"(K)\")\n",
        "# Note, pretty close to accepted value of 5778 K!"
      ],
      "execution_count": null,
      "outputs": [
        {
          "output_type": "stream",
          "text": [
            "x =  4.965114052593709 (K)\n",
            "b =  0.002901111167539509\n",
            "Using peak of sun's radiation, estimated temperature =  5779.105911433284 (K)\n"
          ],
          "name": "stdout"
        }
      ]
    },
    {
      "cell_type": "code",
      "metadata": {
        "id": "7dbNt6NycGdc"
      },
      "source": [
        "# 6.18\n",
        "\n",
        "# Gaussian Integration code from the textbook online resource\n",
        "######################################################################\n",
        "#\n",
        "# Functions to calculate integration points and weights for Gaussian\n",
        "# quadrature\n",
        "#\n",
        "# x,w = gaussxw(N) returns integration points x and integration\n",
        "#           weights w such that sum_i w[i]*f(x[i]) is the Nth-order\n",
        "#           Gaussian approximation to the integral int_{-1}^1 f(x) dx\n",
        "# x,w = gaussxwab(N,a,b) returns integration points and weights\n",
        "#           mapped to the interval [a,b], so that sum_i w[i]*f(x[i])\n",
        "#           is the Nth-order Gaussian approximation to the integral\n",
        "#           int_a^b f(x) dx\n",
        "#\n",
        "# This code finds the zeros of the nth Legendre polynomial using\n",
        "# Newton's method, starting from the approximation given in Abramowitz\n",
        "# and Stegun 22.16.6.  The Legendre polynomial itself is evaluated\n",
        "# using the recurrence relation given in Abramowitz and Stegun\n",
        "# 22.7.10.  The function has been checked against other sources for\n",
        "# values of N up to 1000.  It is compatible with version 2 and version\n",
        "# 3 of Python.\n",
        "#\n",
        "# Written by Mark Newman <mejn@umich.edu>, June 4, 2011\n",
        "# You may use, share, or modify this file freely\n",
        "#\n",
        "######################################################################\n",
        "\n",
        "from numpy import ones,copy,cos,tan,pi,linspace\n",
        "\n",
        "def gaussxw(N):\n",
        "\n",
        "    # Initial approximation to roots of the Legendre polynomial\n",
        "    a = linspace(3,4*N-1,N)/(4*N+2)\n",
        "    x = cos(pi*a+1/(8*N*N*tan(a)))\n",
        "\n",
        "    # Find roots using Newton's method\n",
        "    epsilon = 1e-15\n",
        "    delta = 1.0\n",
        "    while delta>epsilon:\n",
        "        p0 = ones(N,float)\n",
        "        p1 = copy(x)\n",
        "        for k in range(1,N):\n",
        "            p0,p1 = p1,((2*k+1)*x*p1-k*p0)/(k+1)\n",
        "        dp = (N+1)*(p0-x*p1)/(1-x*x)\n",
        "        dx = p1/dp\n",
        "        x -= dx\n",
        "        delta = max(abs(dx))\n",
        "\n",
        "    # Calculate the weights\n",
        "    w = 2*(N+1)*(N+1)/(N*N*(1-x*x)*dp*dp)\n",
        "\n",
        "    return x,w\n",
        "\n",
        "def gaussxwab(N,a,b):\n",
        "    x,w = gaussxw(N)\n",
        "    return 0.5*(b-a)*x+0.5*(b+a),0.5*(b-a)*w\n",
        "\n",
        "# We added this one\n",
        "def integrateGauss(N,a,b,f):\n",
        "    integral = 0.0\n",
        "    ## get the sample points and optimal weights\n",
        "    x,w = gaussxwab(N,a,b)\n",
        "\n",
        "    # Now we use these in the integration\n",
        "    for k in range(N):\n",
        "      integral = integral+w[k]*f(x[k])\n",
        "    return integral"
      ],
      "execution_count": null,
      "outputs": []
    },
    {
      "cell_type": "code",
      "metadata": {
        "colab": {
          "base_uri": "https://localhost:8080/",
          "height": 636
        },
        "id": "3bGrkwehzbCk",
        "outputId": "ca70381a-7bb8-4fb1-a719-f6235a3a9aba"
      },
      "source": [
        "# 6.18, uses above\n",
        "from numpy import exp,pi,sqrt,arange\n",
        "from matplotlib.pyplot import plot,xlabel,ylabel\n",
        "\n",
        "h = 6.626e-34 \n",
        "c = 2.99e8\n",
        "kB = 1.38e-23\n",
        "\n",
        "l1 = 390.0e-9\n",
        "l2 = 750.0e-9\n",
        "N = 100\n",
        "\n",
        "Tlo = 300.0\n",
        "Thi = 10000.0\n",
        "target = 1.0\n",
        "z = (-1 + sqrt(5))/2\n",
        "\n",
        "dt = 10\n",
        "\n",
        "x,w = gaussxw(N)\n",
        "\n",
        "# Integrant\n",
        "def f(x):\n",
        "  return x**3/(exp(x)-1)\n",
        "\n",
        "# Function to calculate efficiency\n",
        "def eta(T):\n",
        "  a = h*c/(l2*kB*T)\n",
        "  b = h*c/(l1*kB*T)\n",
        "  xp = 0.5*(b-a)*x + 0.5*(b+a)\n",
        "  wp = 0.5*(b-a)*w\n",
        "  s = 0.0\n",
        "  for k in range(N):\n",
        "    s += wp[k]*f(xp[k])\n",
        "  return 15*s/(pi**4)\n",
        "\n",
        "# Let's make a plot, first\n",
        "ts = arange(Tlo,Thi,dt)\n",
        "es = []\n",
        "for t in ts:\n",
        "  es.append(eta(t))\n",
        "\n",
        "plot(ts,es)\n",
        "xlabel(\"Temperature (k)\")\n",
        "ylabel(\"Efficiency\")\n",
        "show()\n",
        "\n",
        "# Starting values of temperate points\n",
        "T1 = Tlo\n",
        "T2 = Thi - z*(Thi - Tlo)\n",
        "T3 = Tlo + z*(Thi - Tlo)\n",
        "T4 = Thi\n",
        "\n",
        "eta1 = eta(T1)\n",
        "eta2 = eta(T2)\n",
        "eta3 = eta(T3)\n",
        "eta4 = eta(T4)\n",
        "\n",
        "# Main loop\n",
        "while (T4-T1) > target:\n",
        "  print(T1,T4,eta2)\n",
        "\n",
        "  # Work out which 3 points are the new bracket\n",
        "  if (eta2 > eta3):\n",
        "    T4,eta4 = T3,eta3\n",
        "    T3,eta2 = T2,eta2\n",
        "    T2 = T4 - z*(T4-T1)\n",
        "    eta2 = eta(T2)\n",
        "  else:\n",
        "    T1,eta1 = T2,eta2\n",
        "    T2,eta2 = T3,eta3\n",
        "    T3 = T1 + z*(T4-T1)\n",
        "    eta3 = eta(T3)\n",
        "\n",
        "print(T1,T4,eta2)\n",
        "##Clearly we can't run a lightbulb at ~6800-6900 K. Tungsten would melt! "
      ],
      "execution_count": null,
      "outputs": [
        {
          "output_type": "display_data",
          "data": {
            "image/png": "[encoded data removed]",
            "text/plain": [
              "<Figure size 432x288 with 1 Axes>"
            ]
          },
          "metadata": {
            "tags": [],
            "needs_background": "light"
          }
        },
        {
          "output_type": "stream",
          "text": [
            "300.0 10000.0 0.25845007751289173\n",
            "4005.0703091260193 10000.0 0.4451911793978239\n",
            "4005.0703091260193 7710.14061825204 0.4079087898817055\n",
            "5420.281236504079 7710.14061825204 0.44340479853501275\n",
            "6294.929690873981 7710.14061825204 0.4516002197494002\n",
            "6294.929690873981 7169.5781452438805 0.45039898957513136\n",
            "6629.015672235721 7169.5781452438805 0.4507441962982818\n",
            "6835.49216388214 7169.5781452438805 0.45165672804497303\n",
            "6835.49216388214 7041.96865552856 0.4516938274343786\n",
            "6835.49216388214 6963.101653597461 0.4516808165902288\n",
            "6835.49216388214 6914.359165813238 0.45165879694287886\n",
            "6835.49216388214 6884.234651666362 0.4516397891212585\n",
            "6835.49216388214 6865.616678029016 0.45162596530140475\n",
            "6835.49216388214 6854.110137519486 0.45161662527514507\n",
            "6835.49216388214 6846.998704391669 0.4516105478193652\n",
            "6835.49216388214 6842.6035970099565 0.4516066750578573\n",
            "6835.49216388214 6839.887271263852 0.45160423694491236\n",
            "6835.49216388214 6838.208489628244 0.4516027130565221\n",
            "6835.49216388214 6837.170945517748 0.45160176472606284\n",
            "6835.49216388214 6836.529707992635 0.4516011761362729\n",
            "6835.49216388214 6836.133401407253 0.45160081141679925\n"
          ],
          "name": "stdout"
        }
      ]
    },
    {
      "cell_type": "markdown",
      "source": [
        "We are looking to find x = sqrt(a), $→ x^2 = a$. So we want to find the roots of $f(x) = x^2 - a = 0$. Taking the derivative of f(x), $f' = 2x$\n",
        "\n",
        "Plugging into Newton's method, we get $x' = x - \\frac{x^2 - a}{2x}$\n",
        "\n",
        "Or $x' = x - \\frac{x}{2} + \\frac{a}{2x} = \\frac{x}{2} + \\frac{a}{2x}$\n"
      ],
      "metadata": {
        "id": "h2QObZl3RnZ1"
      }
    },
    {
      "cell_type": "code",
      "source": [
        "import numpy as np\n",
        "\n",
        "a=2\n",
        "x=np.longdouble(1) ### biggest precision we can get, that is our initial guess\n",
        "n=15 ### not that many loops!\n",
        "for i in range(n):\n",
        "  print(x)\n",
        "  x=0.5*(x+a/x)\n",
        "print(\"square root from numpy is\",np.sqrt(a),\"and calculated value = \",x,\"and diff = \",np.sqrt(a)-x)"
      ],
      "metadata": {
        "colab": {
          "base_uri": "https://localhost:8080/"
        },
        "id": "D3fgtJMwSO3j",
        "outputId": "67656167-d66d-4eec-b1b5-9d4bd0f7dd76"
      },
      "execution_count": 4,
      "outputs": [
        {
          "output_type": "stream",
          "name": "stdout",
          "text": [
            "1.0\n",
            "1.5\n",
            "1.4166666666666666667\n",
            "1.4142156862745098039\n",
            "1.4142135623746899106\n",
            "1.4142135623730950488\n",
            "1.4142135623730950488\n",
            "1.4142135623730950488\n",
            "1.4142135623730950488\n",
            "1.4142135623730950488\n",
            "1.4142135623730950488\n",
            "1.4142135623730950488\n",
            "1.4142135623730950488\n",
            "1.4142135623730950488\n",
            "1.4142135623730950488\n",
            "square root from numpy is 1.4142135623730951 and calculated value =  1.4142135623730950488 and diff =  9.6710833785706995513e-17\n"
          ]
        }
      ]
    },
    {
      "cell_type": "code",
      "source": [
        ""
      ],
      "metadata": {
        "id": "YicOXwpVS1N8"
      },
      "execution_count": null,
      "outputs": []
    }
  ]
}