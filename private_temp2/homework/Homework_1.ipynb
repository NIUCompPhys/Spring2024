{
  "nbformat": 4,
  "nbformat_minor": 0,
  "metadata": {
    "colab": {
      "name": "Homework #1",
      "provenance": [],
      "collapsed_sections": []
    },
    "kernelspec": {
      "name": "python3",
      "display_name": "Python 3"
    }
  },
  "cells": [
    {
      "cell_type": "code",
      "metadata": {
        "colab": {
          "base_uri": "https://localhost:8080/"
        },
        "id": "MYYJJgrTM-vS",
        "outputId": "bd37c8ea-9cd9-4c04-f2d0-5f70d666f3c5"
      },
      "source": [
        "#Exercise 4.4\n",
        "from math import sqrt\n",
        "import time\n",
        "\n",
        "def f(x):\n",
        "  return sqrt(1-x*x)\n",
        "\n",
        "def run(N):\n",
        "  tic = time.perf_counter()\n",
        "  I = 0.0\n",
        "  h = 2/N\n",
        "  for k in range(N):\n",
        "    I += h*f(-1+h*k)\n",
        "  toc = time.perf_counter()\n",
        "  print(f\"Estimated value = {I} and it took {toc - tic:0.4f} seconds\")\n",
        "\n",
        "run(10**1)\n",
        "run(10**2)\n",
        "run(10**3)\n",
        "run(10**4)\n",
        "run(10**5)\n",
        "run(10**6)\n",
        "run(10**7) ### uh oh, too many! so we can do about 1 million\n"
      ],
      "execution_count": null,
      "outputs": [
        {
          "output_type": "stream",
          "text": [
            "Estimated value = 1.5185244144417758 and it took 0.0000 seconds\n",
            "Estimated value = 1.5691342555492505 and it took 0.0000 seconds\n",
            "Estimated value = 1.570743738501071 and it took 0.0005 seconds\n",
            "Estimated value = 1.570794663715291 and it took 0.0052 seconds\n",
            "Estimated value = 1.5707962742034223 and it took 0.0299 seconds\n",
            "Estimated value = 1.5707963251317274 and it took 0.2591 seconds\n",
            "Estimated value = 1.5707963267423612 and it took 2.4836 seconds\n"
          ],
          "name": "stdout"
        }
      ]
    },
    {
      "cell_type": "markdown",
      "metadata": {
        "id": "qhYYX1vQNCXD"
      },
      "source": [
        "-1/3 = -0.333333333333333333...\n",
        "\n",
        "So the first thing to note is that our sign bit is 1 because our number is negative\n",
        "\n",
        "Next we want to write the 0.3333333.... part as (1+fraction) x $2^{exponent}$\n",
        "\n",
        "We can divide 0.33333... by $2^{-1}$ to get 0.666666....., but that isn't enough\n",
        "\n",
        "We can divide instead by $2^{-2}$ to get mantinssa = 1.3333333...\n",
        "\n",
        "In other words 0.3333333.... is 1.3333333333 x $2^{-2}$. So the exponent should be -2. It is written in single precision as $2^{e-127}$ = $2^{-2}$, so the exponent e should be 125. We can write 123 as 64+32+16+8+4+1, or in binary using 8 bits as: 0b01111101\n",
        "\n",
        "Finally, we need to write the fractional part of 1.333333333.... = 0.333333333333333.... as the sum of binary fractions. This is not a pretty number, but we start with 1/2. Nope, that is too big. Next is 1/4, yes. 1/3-1/4 = 1/12. Next is 1/8, but that is too big. So we go to 1/16, yes. 1/12-1/16 = 1/48. Next up is 1/32, too big. After that it is 1/64, yes. 1/48-1/64 = 1/192. You can see a pattern here. Better to use code to do this, see below, and we get 0101010101010101010101 for the fraction. There is some amniguity in the last bit due to rounding. But otherwise the number is:\n",
        "\n",
        "0b1 01111101 0101010101010101010101 = 0x3EAA AAAA"
      ]
    },
    {
      "cell_type": "code",
      "metadata": {
        "colab": {
          "base_uri": "https://localhost:8080/"
        },
        "id": "n2L2N82WQf47",
        "outputId": "60bbfda2-dd47-43fd-cd8e-a3d4d3fbfcb0"
      },
      "source": [
        "val = 1./3\n",
        "fraction = \"\"\n",
        "for i in range(1,23):\n",
        "  if (val >= 2**(-i*1)):\n",
        "    fraction = fraction + \"1\"\n",
        "    val = val - 2**(-i*1)\n",
        "  else:\n",
        "    fraction = fraction + \"0\" \n",
        "\n",
        "print(fraction)"
      ],
      "execution_count": null,
      "outputs": [
        {
          "output_type": "stream",
          "text": [
            "0101010101010101010101\n"
          ],
          "name": "stdout"
        }
      ]
    },
    {
      "cell_type": "markdown",
      "metadata": {
        "id": "ky4csRRv95ht"
      },
      "source": [
        "Find the smallest positive integer that is not exact in single precision. \n",
        "\n",
        "If we ignore the sign, 1 can be represented exactly like 2$^{e-127}$ x fraction = $2^0$ x 1.0000000000000000 = 1\n",
        "\n",
        "Similarly, 2 = $2^1$ x 1.0000 = 2\n",
        "\n",
        "What about 3? It is 2*1.5 = 2*(1+1/2) = 3\n",
        "\n",
        "What about 4? It is $2^{2}$ * 1.0, 5 is $2^{2}$ * (1+1/4), 6 is $2^{2} * 6/4$ = $2^{2} * (1+1/2)\n",
        "\n",
        "In generation, our number i is :\n",
        "$(-1)^s 2^{e – 127} (1+m*2^{-23})$, where s is the sign, e is the 8-bit exponent and m is the significand part of the mantissa\n",
        "\n",
        "So e (the exponent part) = floor(log2(i)) + 127\n",
        "\n",
        "and m (the mantissa) = $((i/2^{e – 127})-1)*2^{23}$\n",
        "\n",
        "If $i < 2^{23+1}$ then (e − 127) <= 23$ so m is an integer. And i is representable exactly.\n",
        "\n",
        "If $i = 2^{23+1}$ then (e − 127) = 23+1$ and m is 0. And i is representable exactly.\n",
        "\n",
        "If $i = 2^{23+1}+1$ then (e-127) = 23+1 and m is 1/2. Therefore, we can't exactly represent it anymore\n",
        "\n",
        "So the last number is 16777216, and **16777217** cannot be represented exactly anymore.\n",
        "\n",
        "What is 16777216? It is: $2^24$, which we can represent exactly with the mantissa = 1.\n",
        "\n",
        "What is 16777217? It is 16777216*(16777217/16777216)? It is then our mantissa, 1.0000000596046448, so we would need to represent 0.0000000596046448 with our fraction. But the smallest value we can represent in the mantissa other than 1.0 is 1+$2^{-23}$, and 0.0000000596046448 is  1+$2^{-24}$!"
      ]
    },
    {
      "cell_type": "markdown",
      "metadata": {
        "id": "uQnrEPZ2GAwI"
      },
      "source": [
        "What are the two’s complement representations for these decimals numbers? Use 12 bits: 9, 455, 1021, -12, -1022, -1023.\n",
        "\n",
        "First we get the binary representation of these numbers with 12 bits:\n",
        "\n",
        "9 = 0b 0000 0000 1001\n",
        "\n",
        "455 = 0b 0001 1100 0111\n",
        "\n",
        "1021 = 0b 0011 1111 1101\n",
        "\n",
        "-12 = 0b 1000 0000 1100\n",
        "\n",
        "-1022 = 0b 1011 1111 1110\n",
        "\n",
        "-1023 = 0b 1011 1111 1111\n",
        "\n",
        "Next we negate these numbers:\n",
        "\n",
        "-9 = 0b 1000 0000 1001\n",
        "\n",
        "-455 = 0b 1001 1100 0111\n",
        "\n",
        "-1021 = 0b 1011 1111 1101\n",
        "\n",
        "12 = 0b 0000 0000 1100\n",
        "\n",
        "1022 = 0b 0011 1111 1110\n",
        "\n",
        "1023 = 0b 0011 1111 1111\n",
        "\n",
        "And then we flip the bits:\n",
        "\n",
        "-9(flipped) = 0b 0111 1111 0110\n",
        "\n",
        "-455(flipped) = 0b 0110 0011 1000\n",
        "\n",
        "-1021(flipped) = 0b 0100 0000 0010\n",
        "\n",
        "12(flipped) = 0b 1111 1111 0011\n",
        "\n",
        "1022(flipped) = 0b 1100 0000 0001\n",
        "\n",
        "1023(flipped) = 0b 1100 0000 0000\n",
        "\n",
        "And we add one to get the two's complement:\n",
        "\n",
        "**9(2c) = 0b 0111 1111 0111**\n",
        "\n",
        "**455(2c) = 0b 0110 0011 1001**\n",
        "\n",
        "**1021(2c) = 0b 0100 0000 0011**\n",
        "\n",
        "**-12(2c) = 0b 1111 1111 0100**\n",
        "\n",
        "**-1022(2c) = 0b 1100 0000 0010**\n",
        "\n",
        "**-1023(2c) = 0b 1100 0000 0001**\n",
        "\n"
      ]
    },
    {
      "cell_type": "markdown",
      "metadata": {
        "id": "KuodbTBQII2h"
      },
      "source": [
        "Octal, binary and hex representation of 13, 133, 1333 and 13333\n",
        "\n",
        "Octal:\n",
        "13 = 1*8+5 = 015\n",
        "\n",
        "133 = 2(64)+0(8) + 5 = 0205\n",
        "\n",
        "1333 = 2(512) + 4(64) + 6(8) + 5 = 02465\n",
        "\n",
        "13333 = 3(4096) + 2(512) + 0(64) + 2(8) + 5 = 032025\n",
        "\n",
        "Binary:\n",
        "\n",
        "13 = 8+4+1 = 0b1101\n",
        "\n",
        "133 = 128 + 5 = 0b1000 0101\n",
        "\n",
        "1333 = 1024 + 256 + 32 + 16 + 4 + 1 = 0b101 0011 0101\n",
        "\n",
        "13333 = 8192 + 4096 + 1024 + 16 + 4 + 1 = 0b11 0100 0001 0101\n",
        "\n",
        "Hex (use above groups of 4 to convert):\n",
        "\n",
        "13 = 0xf\n",
        "\n",
        "133 = 0x85\n",
        "\n",
        "1333 = 0x535\n",
        "\n",
        "13333 = 0x3415"
      ]
    }
  ]
}