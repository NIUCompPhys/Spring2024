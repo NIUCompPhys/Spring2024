{
 "cells": [
  {
   "cell_type": "markdown",
   "metadata": {},
   "source": [
    "# Triatomic molecules\n",
    "\n",
    "Now we will look at a model of a linear triatomic molecule with one central mass $M$ attached to two peripheral masses $m$. If the molecule is linear, we can approximate this as three masses attached by two springs of constants $k_{12}$ and $k_{23}$. \n",
    "\n",
    "The Lagrangian for the general case is\n",
    "\n",
    "$$\n",
    "L = \\frac{1}{2}m_1 \\dot{x}_1^2 + \\frac{1}{2}m_2 \\dot{x}_2^2 + \\frac{1}{2}m_3 \\dot{x}_3^2 - \\frac{1}{2}\\left[ k_{12}(x_1-x_2)^2 + k_{23}(x_2-x_3)^2\\right]\n",
    "$$\n",
    "\n",
    "This leads to equations of motion\n",
    "\n",
    "$$\n",
    "m_1 \\ddot{x}_1 = -k_{12} x_1 + k_{12}x_2\n",
    "$$\n",
    "\n",
    "$$\n",
    "m_2 \\ddot{x}_2 = k_{12}x_1 - (k_{12} + k_{32})x_2 + k_{23}x_3\n",
    "$$\n",
    "\n",
    "$$\n",
    "m_3 \\ddot{x}_3 = -k_{23}x_3 + k_{23}x_2\n",
    "$$\n",
    "\n",
    "We can write this as a matrix equation: \n",
    "\n",
    "$$\n",
    "M \\ddot{\\vec{x}}= -K\\vec{x}\n",
    "$$\n",
    "\n",
    "This is a generalized eigenvalue problem. We need to solve\n",
    "\n",
    "$$\n",
    "K \\vec{x} = \\omega^2M\\vec{x}\n",
    "$$\n",
    "\n",
    "We can then let $k_{12} = k_{23} = K$ and $m_1 = m_3 = m, m_2 = M$, and can compute the eigenvalues and eigenvectors directly to obtain: \n",
    "\n",
    "$$\n",
    "\\omega_1^2 = 0, \\omega_2^2 = \\frac{K}{m}, \\omega_3^2 = \\frac{K}{m}\\left(1 + \\frac{2m}{M}\\right)\n",
    "$$\n",
    "\n",
    "$$\n",
    "\\vec{x}_1 = a_1\\left( 1, 1, 1\\right)\n",
    "$$\n",
    "\n",
    "$$\n",
    "\\vec{x}_2 = a_2\\left( 1, 0, -1\\right)\n",
    "$$\n",
    "\n",
    "$$\n",
    "\\vec{x}_3 = a_3\\left( 1, -2m/M, 1\\right)\n",
    "$$\n",
    "\n",
    "So let's compute those numerically. "
   ]
  },
  {
   "cell_type": "code",
   "execution_count": 1,
   "metadata": {},
   "outputs": [],
   "source": [
    "import numpy as np\n",
    "from scipy.linalg import eig"
   ]
  },
  {
   "cell_type": "markdown",
   "metadata": {},
   "source": [
    "### Make a diagonal matrix for the masses"
   ]
  },
  {
   "cell_type": "code",
   "execution_count": 2,
   "metadata": {},
   "outputs": [],
   "source": [
    "M = np.diag([1.,2.,1.])"
   ]
  },
  {
   "cell_type": "code",
   "execution_count": 3,
   "metadata": {},
   "outputs": [
    {
     "data": {
      "text/plain": [
       "array([[1., 0., 0.],\n",
       "       [0., 2., 0.],\n",
       "       [0., 0., 1.]])"
      ]
     },
     "execution_count": 3,
     "metadata": {},
     "output_type": "execute_result"
    }
   ],
   "source": [
    "M"
   ]
  },
  {
   "cell_type": "markdown",
   "metadata": {},
   "source": [
    "### Make a non-diagonal matrix for the spring constants"
   ]
  },
  {
   "cell_type": "code",
   "execution_count": 4,
   "metadata": {},
   "outputs": [],
   "source": [
    "k12 = 1.0\n",
    "k23 = 1.0"
   ]
  },
  {
   "cell_type": "code",
   "execution_count": 5,
   "metadata": {},
   "outputs": [],
   "source": [
    "K = np.array([\n",
    "    [   k12,    -k12,       0.0     ],\n",
    "    [   -k12,   k12 + k23,  -k23    ],\n",
    "    [   0.0,    -k23,       k23     ]\n",
    "])"
   ]
  },
  {
   "cell_type": "code",
   "execution_count": 6,
   "metadata": {},
   "outputs": [
    {
     "data": {
      "text/plain": [
       "array([[ 1., -1.,  0.],\n",
       "       [-1.,  2., -1.],\n",
       "       [ 0., -1.,  1.]])"
      ]
     },
     "execution_count": 6,
     "metadata": {},
     "output_type": "execute_result"
    }
   ],
   "source": [
    "K"
   ]
  },
  {
   "cell_type": "markdown",
   "metadata": {},
   "source": [
    "### Calculate the eigenvalues and eigenvectors \n",
    "\n",
    "We use the `numpy` funciton "
   ]
  },
  {
   "cell_type": "code",
   "execution_count": 7,
   "metadata": {},
   "outputs": [],
   "source": [
    "omega,v = eig(K,M)"
   ]
  },
  {
   "cell_type": "code",
   "execution_count": 8,
   "metadata": {},
   "outputs": [
    {
     "name": "stdout",
     "output_type": "stream",
     "text": [
      "Eigenvalues : \n",
      "[-3.55908143e-17+0.j  1.00000000e+00+0.j  2.00000000e+00+0.j]\n"
     ]
    }
   ],
   "source": [
    "print(\"Eigenvalues : \")\n",
    "print (omega)"
   ]
  },
  {
   "cell_type": "code",
   "execution_count": 9,
   "metadata": {},
   "outputs": [
    {
     "name": "stdout",
     "output_type": "stream",
     "text": [
      "Eigenvectors:\n",
      "[[-5.77350269e-01  7.07106781e-01  5.77350269e-01]\n",
      " [-5.77350269e-01 -6.23947842e-17 -5.77350269e-01]\n",
      " [-5.77350269e-01 -7.07106781e-01  5.77350269e-01]]\n"
     ]
    }
   ],
   "source": [
    "print(\"Eigenvectors:\")\n",
    "print(v)"
   ]
  },
  {
   "cell_type": "code",
   "execution_count": null,
   "metadata": {},
   "outputs": [],
   "source": []
  }
 ],
 "metadata": {
  "kernelspec": {
   "display_name": "Python 3",
   "language": "python",
   "name": "python3"
  },
  "language_info": {
   "codemirror_mode": {
    "name": "ipython",
    "version": 3
   },
   "file_extension": ".py",
   "mimetype": "text/x-python",
   "name": "python",
   "nbconvert_exporter": "python",
   "pygments_lexer": "ipython3",
   "version": "3.7.5rc1"
  }
 },
 "nbformat": 4,
 "nbformat_minor": 2
}
