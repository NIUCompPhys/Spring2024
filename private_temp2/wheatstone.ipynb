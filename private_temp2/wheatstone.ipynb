{
 "cells": [
  {
   "cell_type": "code",
   "execution_count": 1,
   "metadata": {},
   "outputs": [],
   "source": [
    "import numpy as np\n",
    "from scipy import linalg"
   ]
  },
  {
   "cell_type": "code",
   "execution_count": 2,
   "metadata": {},
   "outputs": [
    {
     "name": "stdout",
     "output_type": "stream",
     "text": [
      " Unbalanced Wheatstone bridge equations\n",
      " --------------------------------------\n",
      "v = \n",
      "[[1.5]\n",
      " [0. ]\n",
      " [0. ]]\n",
      "R = \n",
      "[[  110.   100.    10.]\n",
      " [ 1100. -1000.  -150.]\n",
      " [ 1120. -1220.   120.]]\n"
     ]
    }
   ],
   "source": [
    "\n",
    "print (\" Unbalanced Wheatstone bridge equations\")\n",
    "print (\" --------------------------------------\")\n",
    "\n",
    "v0 = 1.5\n",
    "r1 = 100.\n",
    "r2 = r1\n",
    "r3 = 150.\n",
    "rx = 120.\n",
    "ra = 1000.\n",
    "rv = 10.\n",
    "\n",
    "v = np.zeros((3, 1))       # column vector with 3 rows\n",
    "v[0,0] = v0\n",
    "print ('v = ')\n",
    "print (v)\n",
    "\n",
    "R = np.zeros((3, 3))       # 3x3 resistance matrix\n",
    "R[0,0] = r1 + rv      # set components using slicing notation\n",
    "R[0,1] = r2\n",
    "R[0,2] = rv\n",
    "\n",
    "R[1,0] = r1 + ra\n",
    "R[1,1] = -ra\n",
    "R[1,2] = -r3\n",
    "\n",
    "R[2,0] = rx + ra       # or use subscripting notation\n",
    "R[2,1] = -r2 - rx - ra\n",
    "R[2,2] = rx\n",
    "\n",
    "print ('R = ')\n",
    "print (R)\n"
   ]
  },
  {
   "cell_type": "code",
   "execution_count": 3,
   "metadata": {},
   "outputs": [
    {
     "name": "stdout",
     "output_type": "stream",
     "text": [
      " Solution using Gauss-Jordan elimination\n",
      " i =  [[0.00693364]\n",
      " [0.00686499]\n",
      " [0.00508009]]\n",
      " i_a = i_1 - i_2 = 6.86498855835254e-05\n",
      " i_v = i_1 + i_3 = 0.012013729977116704\n",
      " i_x = i_1 - i_2 + i_3 = 0.0051487414187643\n"
     ]
    }
   ],
   "source": [
    "\n",
    "\n",
    "\n",
    "i = np.linalg.solve(R, v)\n",
    "print (\" Solution using Gauss-Jordan elimination\")\n",
    "print (\" i = \", i)\n",
    "\n",
    "\n",
    "# find the other currents\n",
    "print (\" i_a = i_1 - i_2 = \" + str(i[0][0] - i[1][0]))\n",
    "print (\" i_v = i_1 + i_3 = \" + str(i[0][0] + i[2][0]))\n",
    "print (\" i_x = i_1 - i_2 + i_3 = \" + str(i[0][0] - i[1][0] + i[2][0]))\n",
    "\n",
    "\n"
   ]
  },
  {
   "cell_type": "code",
   "execution_count": 4,
   "metadata": {},
   "outputs": [
    {
     "name": "stdout",
     "output_type": "stream",
     "text": [
      " LU Decompositon\n",
      "p:\n",
      "[[0. 1. 0.]\n",
      " [0. 0. 1.]\n",
      " [1. 0. 0.]]\n",
      "l:\n",
      "[[1.         0.         0.        ]\n",
      " [0.09821429 1.         0.        ]\n",
      " [0.98214286 0.90170593 1.        ]]\n",
      "u:\n",
      "[[ 1120.         -1220.           120.        ]\n",
      " [    0.           219.82142857    -1.78571429]\n",
      " [    0.             0.          -266.2469537 ]]\n"
     ]
    }
   ],
   "source": [
    "\n",
    "p,l,u = linalg.lu(R)\n",
    "print (\" LU Decompositon\")\n",
    "print(\"p:\")\n",
    "print(p)\n",
    "print(\"l:\")\n",
    "print(l)\n",
    "print(\"u:\")\n",
    "print(u)\n",
    "\n"
   ]
  },
  {
   "cell_type": "code",
   "execution_count": null,
   "metadata": {},
   "outputs": [],
   "source": []
  }
 ],
 "metadata": {
  "kernelspec": {
   "display_name": "Python 3",
   "language": "python",
   "name": "python3"
  },
  "language_info": {
   "codemirror_mode": {
    "name": "ipython",
    "version": 3
   },
   "file_extension": ".py",
   "mimetype": "text/x-python",
   "name": "python",
   "nbconvert_exporter": "python",
   "pygments_lexer": "ipython3",
   "version": "3.7.5rc1"
  }
 },
 "nbformat": 4,
 "nbformat_minor": 2
}
