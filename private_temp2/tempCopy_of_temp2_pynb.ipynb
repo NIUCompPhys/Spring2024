version https://git-lfs.github.com/spec/v1
oid sha256:1a30242261d9f5cd16d0c63162e0835b39c6c6975249d50459b706aecf6935ed
size 115880956
