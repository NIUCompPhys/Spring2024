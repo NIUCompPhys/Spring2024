{
  "nbformat": 4,
  "nbformat_minor": 0,
  "metadata": {
    "colab": {
      "name": "2024",
      "provenance": [],
      "collapsed_sections": []
    },
    "kernelspec": {
      "name": "python3",
      "display_name": "Python 3"
    }
  },
  "cells": [
    {
      "cell_type": "code",
      "metadata": {
        "id": "ns7hn4GssINv"
      },
      "source": [
        "import datetime\n",
        "import time\n",
        "import IPython\n",
        "\n",
        "def increase_font():\n",
        "  from IPython.display import Javascript\n",
        "  display(Javascript('''\n",
        "  for (rule of document.styleSheets[0].cssRules){\n",
        "    if (rule.selectorText=='body') {\n",
        "      rule.style.fontSize = '30px'\n",
        "      break\n",
        "    }\n",
        "  }\n",
        "  '''))\n",
        "\n",
        "IPython.display.clear_output()\n",
        "increase_font()\n",
        "out = display(IPython.display.Pretty('Calculating'), display_id=True)\n",
        "while (1):\n",
        "  time_now = datetime.datetime.now()\n",
        "  time_2025 = datetime.datetime(2025, 1, 1)\n",
        "  diff = time_2025-time_now\n",
        "  seconds = int(diff.total_seconds())\n",
        "  text=\"Terrible news! There are still \"+str(seconds)+\" seconds left until 2025\"\n",
        "  out.update(IPython.display.Pretty(text))\n",
        "  time.sleep(1)"
      ],
      "execution_count": null,
      "outputs": []
    }
  ]
}